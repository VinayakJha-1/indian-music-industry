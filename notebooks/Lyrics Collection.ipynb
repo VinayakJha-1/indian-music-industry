{
 "cells": [
  {
   "cell_type": "markdown",
   "id": "f139ccbb",
   "metadata": {},
   "source": [
    "## Lyrics API Scraping"
   ]
  },
  {
   "cell_type": "code",
   "execution_count": null,
   "id": "b0e66a3a",
   "metadata": {},
   "outputs": [],
   "source": [
    "# Collect a "
   ]
  },
  {
   "cell_type": "code",
   "execution_count": 3,
   "id": "2f017fca",
   "metadata": {},
   "outputs": [],
   "source": [
    "import pandas as pd\n",
    "import spotipy\n",
    "from spotipy.oauth2 import SpotifyClientCredentials\n",
    "from bs4 import BeautifulSoup\n",
    "import requests"
   ]
  },
  {
   "cell_type": "code",
   "execution_count": 4,
   "id": "1e349f7d",
   "metadata": {},
   "outputs": [],
   "source": [
    "#function to scrape lyrics from genius\n",
    "def scrape_lyrics(artistname, songname):\n",
    "    artistname2 = str(artistname.replace(' ','-')) if ' ' in artistname else str(artistname)\n",
    "    songname2 = str(songname.replace(' ','-')) if ' ' in songname else str(songname)\n",
    "    page = requests.get('https://genius.com/'+ artistname2 + '-' + songname2 + '-' + 'lyrics')\n",
    "    html = BeautifulSoup(page.text, 'html.parser')\n",
    "    lyrics1 = html.find(\"div\", class_=\"lyrics\")\n",
    "    lyrics2 = html.find(\"div\", class_=\"Lyrics__Container-sc-1ynbvzw-2 jgQsqn\")\n",
    "    if lyrics1:\n",
    "        lyrics = lyrics1.get_text()\n",
    "    elif lyrics2:\n",
    "        lyrics = lyrics2.get_text()\n",
    "    elif lyrics1 == lyrics2 == None:\n",
    "        lyrics = None\n",
    "    return lyrics\n",
    "\n",
    "#function to attach lyrics onto data frame\n",
    "#artist_name should be inserted as a string\n",
    "def lyrics_onto_frame(df1, artist_name):\n",
    "    for i,x in enumerate(df1['track']):\n",
    "        test = scrape_lyrics(artist_name, x)\n",
    "        df1.loc[i, 'lyrics'] = test\n",
    "    return df1"
   ]
  },
  {
   "cell_type": "code",
   "execution_count": 6,
   "id": "812f4ba4",
   "metadata": {},
   "outputs": [
    {
     "data": {
      "text/plain": [
       "(1595, 22)"
      ]
     },
     "execution_count": 6,
     "metadata": {},
     "output_type": "execute_result"
    }
   ],
   "source": [
    "df1 = pd.read_csv('../data/complete_playlist_data.csv')\n",
    "df1.shape"
   ]
  },
  {
   "cell_type": "code",
   "execution_count": null,
   "id": "57cdc258",
   "metadata": {},
   "outputs": [],
   "source": [
    "lyrics_onto_frame(df1, artist_name)"
   ]
  }
 ],
 "metadata": {
  "kernelspec": {
   "display_name": "Python 3",
   "language": "python",
   "name": "python3"
  },
  "language_info": {
   "codemirror_mode": {
    "name": "ipython",
    "version": 3
   },
   "file_extension": ".py",
   "mimetype": "text/x-python",
   "name": "python",
   "nbconvert_exporter": "python",
   "pygments_lexer": "ipython3",
   "version": "3.8.8"
  }
 },
 "nbformat": 4,
 "nbformat_minor": 5
}
