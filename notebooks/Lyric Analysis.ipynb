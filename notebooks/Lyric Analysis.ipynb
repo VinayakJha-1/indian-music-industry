{
 "cells": [
  {
   "cell_type": "markdown",
   "metadata": {},
   "source": [
    "# Lyric Data Analysis\n",
    "\n",
    "Segregation and Text analysis of the lyric data"
   ]
  },
  {
   "cell_type": "code",
   "execution_count": 1,
   "metadata": {},
   "outputs": [],
   "source": [
    "# Import the necessary modules\n",
    "import pandas as pd \n",
    "import numpy as np"
   ]
  },
  {
   "cell_type": "code",
   "execution_count": 10,
   "metadata": {},
   "outputs": [
    {
     "data": {
      "text/plain": [
       "(70, 26)"
      ]
     },
     "execution_count": 10,
     "metadata": {},
     "output_type": "execute_result"
    }
   ],
   "source": [
    "# Load the data\n",
    "df = pd.read_excel('../data/top_decade_songs_translated.xlsx')\n",
    "df.shape"
   ]
  },
  {
   "cell_type": "code",
   "execution_count": 11,
   "metadata": {},
   "outputs": [
    {
     "data": {
      "text/html": [
       "<div>\n",
       "<style scoped>\n",
       "    .dataframe tbody tr th:only-of-type {\n",
       "        vertical-align: middle;\n",
       "    }\n",
       "\n",
       "    .dataframe tbody tr th {\n",
       "        vertical-align: top;\n",
       "    }\n",
       "\n",
       "    .dataframe thead th {\n",
       "        text-align: right;\n",
       "    }\n",
       "</style>\n",
       "<table border=\"1\" class=\"dataframe\">\n",
       "  <thead>\n",
       "    <tr style=\"text-align: right;\">\n",
       "      <th></th>\n",
       "      <th>track_id</th>\n",
       "      <th>name</th>\n",
       "      <th>album</th>\n",
       "      <th>artist</th>\n",
       "      <th>release_date</th>\n",
       "      <th>length</th>\n",
       "      <th>popularity</th>\n",
       "      <th>key</th>\n",
       "      <th>acousticness</th>\n",
       "      <th>danceability</th>\n",
       "      <th>...</th>\n",
       "      <th>valence</th>\n",
       "      <th>time_signature</th>\n",
       "      <th>mode</th>\n",
       "      <th>playlist_id</th>\n",
       "      <th>year</th>\n",
       "      <th>decade</th>\n",
       "      <th>hindi_lyrics</th>\n",
       "      <th>english_lyrics</th>\n",
       "      <th>language</th>\n",
       "      <th>english_translated_lyrics</th>\n",
       "    </tr>\n",
       "  </thead>\n",
       "  <tbody>\n",
       "    <tr>\n",
       "      <th>0</th>\n",
       "      <td>59HjNZgoziKgAwGOhrKRPJ</td>\n",
       "      <td>Tere Mere Sapne Ab Ek Rang Hain</td>\n",
       "      <td>Guide</td>\n",
       "      <td>S. D. Burman</td>\n",
       "      <td>12/6/1965</td>\n",
       "      <td>0.000261</td>\n",
       "      <td>47</td>\n",
       "      <td>3</td>\n",
       "      <td>0.978</td>\n",
       "      <td>0.246</td>\n",
       "      <td>...</td>\n",
       "      <td>0.552</td>\n",
       "      <td>3</td>\n",
       "      <td>1</td>\n",
       "      <td>37i9dQZF1DXa1eCiO3E6Rr</td>\n",
       "      <td>1965</td>\n",
       "      <td>1960</td>\n",
       "      <td>तेरे मेरे सपने\\nअब्ब एक रंग हैं\\nजहां भी ले जा...</td>\n",
       "      <td>Tere mere sapne\\nAbb ek rang hain\\nJaha bhee l...</td>\n",
       "      <td>hi</td>\n",
       "      <td>Yours is my dream\\nAbb is a color\\nWherever yo...</td>\n",
       "    </tr>\n",
       "    <tr>\n",
       "      <th>1</th>\n",
       "      <td>1P278K5LuPJOatR1wBUywC</td>\n",
       "      <td>Aane Se Uske Aaye Bahar</td>\n",
       "      <td>Jeene Ki Raah</td>\n",
       "      <td>Laxmikant Pyarelal</td>\n",
       "      <td>1/1/1969</td>\n",
       "      <td>0.000248</td>\n",
       "      <td>51</td>\n",
       "      <td>6</td>\n",
       "      <td>0.886</td>\n",
       "      <td>0.370</td>\n",
       "      <td>...</td>\n",
       "      <td>0.668</td>\n",
       "      <td>4</td>\n",
       "      <td>0</td>\n",
       "      <td>3dKv6gpADy34FI6rcP7DAT</td>\n",
       "      <td>1969</td>\n",
       "      <td>1960</td>\n",
       "      <td>आने से उस के आये बहार\\nजाने से उस के जाए बहार\\...</td>\n",
       "      <td>Aane se us ke aaye bahar\\nJaane se us ke jaaye...</td>\n",
       "      <td>hi</td>\n",
       "      <td>From his coming, he came out.\\nGo out of it.\\n...</td>\n",
       "    </tr>\n",
       "    <tr>\n",
       "      <th>2</th>\n",
       "      <td>7ukboFFuDuxKWRdxahmth7</td>\n",
       "      <td>Beqarar Karke Hamen Yun Na Jaiye</td>\n",
       "      <td>Bees Saal Baad</td>\n",
       "      <td>Hemant Kumar</td>\n",
       "      <td>1/1/1962</td>\n",
       "      <td>0.000190</td>\n",
       "      <td>51</td>\n",
       "      <td>10</td>\n",
       "      <td>0.971</td>\n",
       "      <td>0.653</td>\n",
       "      <td>...</td>\n",
       "      <td>0.757</td>\n",
       "      <td>4</td>\n",
       "      <td>0</td>\n",
       "      <td>3dKv6gpADy34FI6rcP7DAT</td>\n",
       "      <td>1962</td>\n",
       "      <td>1960</td>\n",
       "      <td>बेक़रार करके हमें यूँ न जाइये\\nआपको हमारी कसम ल...</td>\n",
       "      <td>Beqaraar karake hame yun na jaaiye\\nAapako ham...</td>\n",
       "      <td>hi</td>\n",
       "      <td>Don't let us go like that.\\nI swear to you bac...</td>\n",
       "    </tr>\n",
       "    <tr>\n",
       "      <th>3</th>\n",
       "      <td>6xCnMMPkIIhn3QyGJgd5xd</td>\n",
       "      <td>Ae Mere Zohra Jabeen</td>\n",
       "      <td>Waqt</td>\n",
       "      <td>Ravi</td>\n",
       "      <td>7/28/1965</td>\n",
       "      <td>0.000235</td>\n",
       "      <td>52</td>\n",
       "      <td>6</td>\n",
       "      <td>0.984</td>\n",
       "      <td>0.441</td>\n",
       "      <td>...</td>\n",
       "      <td>0.514</td>\n",
       "      <td>3</td>\n",
       "      <td>0</td>\n",
       "      <td>3dKv6gpADy34FI6rcP7DAT</td>\n",
       "      <td>1965</td>\n",
       "      <td>1960</td>\n",
       "      <td>ऐ मेरी जोहरा जबीं\\nतुझे मालुम नहीं\\nतू अभी तक ...</td>\n",
       "      <td>Ai meri zoharaa zabi\\nTujhe maalum nahi\\nTu ab...</td>\n",
       "      <td>hi</td>\n",
       "      <td>O my zohra jabeen\\nYou don't know\\nYou're stil...</td>\n",
       "    </tr>\n",
       "    <tr>\n",
       "      <th>4</th>\n",
       "      <td>1AlatlIkROgLvG6pgBBnAz</td>\n",
       "      <td>Roop Tera Mastana</td>\n",
       "      <td>Aradhana</td>\n",
       "      <td>S. D. Burman</td>\n",
       "      <td>9/27/1969</td>\n",
       "      <td>0.000225</td>\n",
       "      <td>55</td>\n",
       "      <td>8</td>\n",
       "      <td>0.666</td>\n",
       "      <td>0.449</td>\n",
       "      <td>...</td>\n",
       "      <td>0.543</td>\n",
       "      <td>4</td>\n",
       "      <td>0</td>\n",
       "      <td>3dKv6gpADy34FI6rcP7DAT</td>\n",
       "      <td>1969</td>\n",
       "      <td>1960</td>\n",
       "      <td>रूप तेरा मस्ताना\\nरूप तेरा मस्ताना\\nभूल कोई हम...</td>\n",
       "      <td>Rup teraa mastaanaa, pyaar meraa divaanaa\\nRup...</td>\n",
       "      <td>hi</td>\n",
       "      <td>form your mastana\\nform your mastana\\nLet no o...</td>\n",
       "    </tr>\n",
       "  </tbody>\n",
       "</table>\n",
       "<p>5 rows × 26 columns</p>\n",
       "</div>"
      ],
      "text/plain": [
       "                 track_id                              name           album  \\\n",
       "0  59HjNZgoziKgAwGOhrKRPJ   Tere Mere Sapne Ab Ek Rang Hain           Guide   \n",
       "1  1P278K5LuPJOatR1wBUywC           Aane Se Uske Aaye Bahar   Jeene Ki Raah   \n",
       "2  7ukboFFuDuxKWRdxahmth7  Beqarar Karke Hamen Yun Na Jaiye  Bees Saal Baad   \n",
       "3  6xCnMMPkIIhn3QyGJgd5xd              Ae Mere Zohra Jabeen            Waqt   \n",
       "4  1AlatlIkROgLvG6pgBBnAz                 Roop Tera Mastana        Aradhana   \n",
       "\n",
       "               artist release_date    length  popularity  key  acousticness  \\\n",
       "0        S. D. Burman    12/6/1965  0.000261          47    3         0.978   \n",
       "1  Laxmikant Pyarelal     1/1/1969  0.000248          51    6         0.886   \n",
       "2        Hemant Kumar     1/1/1962  0.000190          51   10         0.971   \n",
       "3                Ravi    7/28/1965  0.000235          52    6         0.984   \n",
       "4        S. D. Burman    9/27/1969  0.000225          55    8         0.666   \n",
       "\n",
       "   danceability  ...  valence  time_signature  mode             playlist_id  \\\n",
       "0         0.246  ...    0.552               3     1  37i9dQZF1DXa1eCiO3E6Rr   \n",
       "1         0.370  ...    0.668               4     0  3dKv6gpADy34FI6rcP7DAT   \n",
       "2         0.653  ...    0.757               4     0  3dKv6gpADy34FI6rcP7DAT   \n",
       "3         0.441  ...    0.514               3     0  3dKv6gpADy34FI6rcP7DAT   \n",
       "4         0.449  ...    0.543               4     0  3dKv6gpADy34FI6rcP7DAT   \n",
       "\n",
       "   year  decade                                       hindi_lyrics  \\\n",
       "0  1965    1960  तेरे मेरे सपने\\nअब्ब एक रंग हैं\\nजहां भी ले जा...   \n",
       "1  1969    1960  आने से उस के आये बहार\\nजाने से उस के जाए बहार\\...   \n",
       "2  1962    1960  बेक़रार करके हमें यूँ न जाइये\\nआपको हमारी कसम ल...   \n",
       "3  1965    1960  ऐ मेरी जोहरा जबीं\\nतुझे मालुम नहीं\\nतू अभी तक ...   \n",
       "4  1969    1960  रूप तेरा मस्ताना\\nरूप तेरा मस्ताना\\nभूल कोई हम...   \n",
       "\n",
       "                                      english_lyrics  language  \\\n",
       "0  Tere mere sapne\\nAbb ek rang hain\\nJaha bhee l...        hi   \n",
       "1  Aane se us ke aaye bahar\\nJaane se us ke jaaye...        hi   \n",
       "2  Beqaraar karake hame yun na jaaiye\\nAapako ham...        hi   \n",
       "3  Ai meri zoharaa zabi\\nTujhe maalum nahi\\nTu ab...        hi   \n",
       "4  Rup teraa mastaanaa, pyaar meraa divaanaa\\nRup...        hi   \n",
       "\n",
       "                           english_translated_lyrics  \n",
       "0  Yours is my dream\\nAbb is a color\\nWherever yo...  \n",
       "1  From his coming, he came out.\\nGo out of it.\\n...  \n",
       "2  Don't let us go like that.\\nI swear to you bac...  \n",
       "3  O my zohra jabeen\\nYou don't know\\nYou're stil...  \n",
       "4  form your mastana\\nform your mastana\\nLet no o...  \n",
       "\n",
       "[5 rows x 26 columns]"
      ]
     },
     "execution_count": 11,
     "metadata": {},
     "output_type": "execute_result"
    }
   ],
   "source": [
    "df.head()"
   ]
  },
  {
   "cell_type": "code",
   "execution_count": 12,
   "metadata": {},
   "outputs": [],
   "source": [
    "## Add word count to each song \n",
    "df['word_count'] = df['english_translated_lyrics'].apply(lambda x: len(x.split()))"
   ]
  },
  {
   "cell_type": "code",
   "execution_count": 13,
   "metadata": {},
   "outputs": [
    {
     "data": {
      "text/plain": [
       "decade\n",
       "1960    193.5\n",
       "1970    191.9\n",
       "1980    209.8\n",
       "1990    250.9\n",
       "2000    264.2\n",
       "2010    189.7\n",
       "2020    235.5\n",
       "Name: word_count, dtype: float64"
      ]
     },
     "execution_count": 13,
     "metadata": {},
     "output_type": "execute_result"
    }
   ],
   "source": [
    "# Average number of words per song in in every decade \n",
    "df.groupby('decade')['word_count'].mean()"
   ]
  },
  {
   "cell_type": "code",
   "execution_count": 14,
   "metadata": {},
   "outputs": [
    {
     "data": {
      "text/html": [
       "<div>\n",
       "<style scoped>\n",
       "    .dataframe tbody tr th:only-of-type {\n",
       "        vertical-align: middle;\n",
       "    }\n",
       "\n",
       "    .dataframe tbody tr th {\n",
       "        vertical-align: top;\n",
       "    }\n",
       "\n",
       "    .dataframe thead th {\n",
       "        text-align: right;\n",
       "    }\n",
       "</style>\n",
       "<table border=\"1\" class=\"dataframe\">\n",
       "  <thead>\n",
       "    <tr style=\"text-align: right;\">\n",
       "      <th></th>\n",
       "      <th>decade</th>\n",
       "      <th>english_translated_lyrics</th>\n",
       "    </tr>\n",
       "  </thead>\n",
       "  <tbody>\n",
       "    <tr>\n",
       "      <th>0</th>\n",
       "      <td>1960</td>\n",
       "      <td>Yours is my dream\\nAbb is a color\\nWherever yo...</td>\n",
       "    </tr>\n",
       "    <tr>\n",
       "      <th>1</th>\n",
       "      <td>1970</td>\n",
       "      <td>I'm not a shayar\\nBut hey laughed.\\nEver since...</td>\n",
       "    </tr>\n",
       "    <tr>\n",
       "      <th>2</th>\n",
       "      <td>1980</td>\n",
       "      <td>Janu my life\\nI am your sacrifice\\nJanu my lif...</td>\n",
       "    </tr>\n",
       "    <tr>\n",
       "      <th>3</th>\n",
       "      <td>1990</td>\n",
       "      <td>even if you say nothing\\nI listened to...\\ncho...</td>\n",
       "    </tr>\n",
       "    <tr>\n",
       "      <th>4</th>\n",
       "      <td>2000</td>\n",
       "      <td>Aa aa.. Come on... Aa aa.. Aa aa.. The second ...</td>\n",
       "    </tr>\n",
       "    <tr>\n",
       "      <th>5</th>\n",
       "      <td>2010</td>\n",
       "      <td>I am this Sahib ji\\nLet's go all the g\\nStill ...</td>\n",
       "    </tr>\n",
       "    <tr>\n",
       "      <th>6</th>\n",
       "      <td>2020</td>\n",
       "      <td>When you walk the way, you turn the way\\nWhen ...</td>\n",
       "    </tr>\n",
       "  </tbody>\n",
       "</table>\n",
       "</div>"
      ],
      "text/plain": [
       "   decade                          english_translated_lyrics\n",
       "0    1960  Yours is my dream\\nAbb is a color\\nWherever yo...\n",
       "1    1970  I'm not a shayar\\nBut hey laughed.\\nEver since...\n",
       "2    1980  Janu my life\\nI am your sacrifice\\nJanu my lif...\n",
       "3    1990  even if you say nothing\\nI listened to...\\ncho...\n",
       "4    2000  Aa aa.. Come on... Aa aa.. Aa aa.. The second ...\n",
       "5    2010  I am this Sahib ji\\nLet's go all the g\\nStill ...\n",
       "6    2020  When you walk the way, you turn the way\\nWhen ..."
      ]
     },
     "execution_count": 14,
     "metadata": {},
     "output_type": "execute_result"
    }
   ],
   "source": [
    "# Collect the decade wise lyrics \n",
    "decade_lyrics = pd.DataFrame(df.groupby('decade', as_index=False).english_translated_lyrics.apply(lambda x: ' '.join(x)))\n",
    "decade_lyrics"
   ]
  },
  {
   "cell_type": "code",
   "execution_count": 20,
   "metadata": {},
   "outputs": [
    {
     "data": {
      "text/html": [
       "<div>\n",
       "<style scoped>\n",
       "    .dataframe tbody tr th:only-of-type {\n",
       "        vertical-align: middle;\n",
       "    }\n",
       "\n",
       "    .dataframe tbody tr th {\n",
       "        vertical-align: top;\n",
       "    }\n",
       "\n",
       "    .dataframe thead th {\n",
       "        text-align: right;\n",
       "    }\n",
       "</style>\n",
       "<table border=\"1\" class=\"dataframe\">\n",
       "  <thead>\n",
       "    <tr style=\"text-align: right;\">\n",
       "      <th></th>\n",
       "      <th>decade</th>\n",
       "      <th>english_lyrics</th>\n",
       "    </tr>\n",
       "  </thead>\n",
       "  <tbody>\n",
       "    <tr>\n",
       "      <th>0</th>\n",
       "      <td>1960</td>\n",
       "      <td>Tere mere sapne\\nAbb ek rang hain\\nJaha bhee l...</td>\n",
       "    </tr>\n",
       "    <tr>\n",
       "      <th>1</th>\n",
       "      <td>1970</td>\n",
       "      <td>Main shaayar to nahin\\nMagar ai hanseen\\nJab s...</td>\n",
       "    </tr>\n",
       "    <tr>\n",
       "      <th>2</th>\n",
       "      <td>1980</td>\n",
       "      <td>Jaanu meri jaan\\nMain tere qurbaan\\nJaanu meri...</td>\n",
       "    </tr>\n",
       "    <tr>\n",
       "      <th>3</th>\n",
       "      <td>1990</td>\n",
       "      <td>Chaahe tum kuch na kaho,\\nMaine sun liya…ke sa...</td>\n",
       "    </tr>\n",
       "    <tr>\n",
       "      <th>4</th>\n",
       "      <td>2000</td>\n",
       "      <td>Aa aa..aa aa…aa aa..aa aa.. aa..\\n\\n\\nNa hai y...</td>\n",
       "    </tr>\n",
       "    <tr>\n",
       "      <th>5</th>\n",
       "      <td>2010</td>\n",
       "      <td>Mann yeh saahib ji\\nJaane hai sab ji\\nPhir bhi...</td>\n",
       "    </tr>\n",
       "    <tr>\n",
       "      <th>6</th>\n",
       "      <td>2020</td>\n",
       "      <td>Jab Chalte Chalte Raah Mude\\nJab Jugnu Muthi K...</td>\n",
       "    </tr>\n",
       "  </tbody>\n",
       "</table>\n",
       "</div>"
      ],
      "text/plain": [
       "   decade                                     english_lyrics\n",
       "0    1960  Tere mere sapne\\nAbb ek rang hain\\nJaha bhee l...\n",
       "1    1970  Main shaayar to nahin\\nMagar ai hanseen\\nJab s...\n",
       "2    1980  Jaanu meri jaan\\nMain tere qurbaan\\nJaanu meri...\n",
       "3    1990  Chaahe tum kuch na kaho,\\nMaine sun liya…ke sa...\n",
       "4    2000  Aa aa..aa aa…aa aa..aa aa.. aa..\\n\\n\\nNa hai y...\n",
       "5    2010  Mann yeh saahib ji\\nJaane hai sab ji\\nPhir bhi...\n",
       "6    2020  Jab Chalte Chalte Raah Mude\\nJab Jugnu Muthi K..."
      ]
     },
     "execution_count": 20,
     "metadata": {},
     "output_type": "execute_result"
    }
   ],
   "source": [
    "# Collect the decade wise lyrics \n",
    "decade_lyrics = pd.DataFrame(df.groupby('decade', as_index=False).english_lyrics.apply(lambda x: ' '.join(x)))\n",
    "decade_lyrics"
   ]
  },
  {
   "cell_type": "code",
   "execution_count": 24,
   "metadata": {},
   "outputs": [],
   "source": [
    "# Save the data \n",
    "decade_lyrics.to_csv('../data/hinglish_lyrics_by_decade.csv', index=False)"
   ]
  },
  {
   "cell_type": "code",
   "execution_count": 22,
   "metadata": {},
   "outputs": [],
   "source": [
    "# Create text files for decade-wise lyrics \n",
    "for i in range(len(decade_lyrics)):\n",
    "    with open(f\"../data/lyrics/hinglish_lyrics_from_{decade_lyrics['decade'][i]}.txt\", 'w', encoding=\"utf-8\") as f:\n",
    "        f.write(decade_lyrics.iloc[i, 1])"
   ]
  },
  {
   "cell_type": "code",
   "execution_count": 23,
   "metadata": {},
   "outputs": [
    {
     "data": {
      "text/plain": [
       "1960    10\n",
       "1970    10\n",
       "1980    10\n",
       "1990    10\n",
       "2000    10\n",
       "2010    10\n",
       "2020    10\n",
       "Name: decade, dtype: int64"
      ]
     },
     "execution_count": 23,
     "metadata": {},
     "output_type": "execute_result"
    }
   ],
   "source": [
    "df['decade'].value_counts()"
   ]
  },
  {
   "cell_type": "markdown",
   "metadata": {},
   "source": [
    "## Lyrics Text Analysis"
   ]
  },
  {
   "cell_type": "code",
   "execution_count": null,
   "metadata": {},
   "outputs": [],
   "source": [
    "# Create a function to clean the data \n",
    "def clean_data(text): \n",
    "    \"\"\"Create a function to clean the text by removing stopwords\n",
    "\n",
    "    Args:\n",
    "        text (str): A text to be cleaned. \n",
    "    \"\"\""
   ]
  },
  {
   "cell_type": "code",
   "execution_count": null,
   "metadata": {},
   "outputs": [],
   "source": [
    "decade_lyrics"
   ]
  }
 ],
 "metadata": {
  "kernelspec": {
   "display_name": "Python 3 (ipykernel)",
   "language": "python",
   "name": "python3"
  },
  "language_info": {
   "codemirror_mode": {
    "name": "ipython",
    "version": 3
   },
   "file_extension": ".py",
   "mimetype": "text/x-python",
   "name": "python",
   "nbconvert_exporter": "python",
   "pygments_lexer": "ipython3",
   "version": "3.8.8"
  },
  "vscode": {
   "interpreter": {
    "hash": "b27c7e5713cfa0f783fa7b97c0326d19c62c292d2f3c3b1ef78e4fc162fb3e10"
   }
  }
 },
 "nbformat": 4,
 "nbformat_minor": 2
}
